{
 "cells": [
  {
   "cell_type": "code",
   "execution_count": 1,
   "metadata": {},
   "outputs": [],
   "source": [
    "# Made by Divyesh Chotai 2016\n",
    "# Updated by Yanay Rosen 2019\n",
    "\n",
    "import re\n",
    "from urllib.request import urlopen\n",
    "import string\n",
    "from bs4 import BeautifulSoup as Soup\n",
    "\n",
    "\n",
    "# Extract all the names and store into a list named 'results'\n",
    "def extract_names():\n",
    "    \"\"\"\n",
    "    Extracts the names of all historical NBA players. \n",
    "    NBA player data is extracted from http://www.basketball-reference.com/\n",
    "    \"\"\"\n",
    "    print('Extracting names...')\n",
    "    names = []\n",
    "    active = []\n",
    "    letters = string.ascii_lowercase\n",
    "    for letter in letters:\n",
    "        try:\n",
    "            bballreference = f'http://www.basketball-reference.com/players/{letter}' \n",
    "            ufile = urlopen(bballreference)\n",
    "            reader = str(ufile.read())\n",
    "            \n",
    "            html = Soup(reader, \"html\")\n",
    "            rows = html.find_all('tr')\n",
    "            for row in rows[1:]:\n",
    "                names.append(row.find(\"th\").getText())\n",
    "                try:\n",
    "                    active.append(row.find(\"strong\").getText())\n",
    "                except:\n",
    "                    continue\n",
    "        except:\n",
    "            print(f\"Letter failed {letter}\")\n",
    "    print('Names extracted.')\n",
    "    return names, active\n",
    "\n",
    "def find_chain(stop=1000, active_only=False):\n",
    "    \"\"\"\n",
    "    Finds NBA player name chains ie Chris Paul George.\n",
    "    \"\"\"\n",
    "    names, active = extract_names()\n",
    "    if active_only:\n",
    "        names = active\n",
    "    names_parsed = [re.sub(r\"[\\*-]\", \" \", name).strip().lower().split() for name in names]\n",
    "    last_names = names_parsed\n",
    "    n = 1\n",
    "    while True:\n",
    "        n_names = []\n",
    "        for i, my_names in enumerate(last_names):\n",
    "            last = my_names[-1]\n",
    "            for other_names in names_parsed:\n",
    "                if other_names[0] == last:\n",
    "                    combined_name = my_names + other_names[1:]\n",
    "                    n_names.append(combined_name)\n",
    "\n",
    "        if n == stop or len(n_names) == 0:\n",
    "            print(f\"Stopping at {n} names\")\n",
    "            return [\" \".join(name) for name in last_names]\n",
    "            break\n",
    "        n+=1\n",
    "        last_names = n_names    "
   ]
  },
  {
   "cell_type": "code",
   "execution_count": 2,
   "metadata": {},
   "outputs": [
    {
     "name": "stdout",
     "output_type": "stream",
     "text": [
      "Extracting names...\n"
     ]
    },
    {
     "name": "stderr",
     "output_type": "stream",
     "text": [
      "/Users/yanayrosen/anaconda/lib/python3.6/site-packages/bs4/__init__.py:181: UserWarning: No parser was explicitly specified, so I'm using the best available HTML parser for this system (\"lxml\"). This usually isn't a problem, but if you run this code on another system, or in a different virtual environment, it may use a different parser and behave differently.\n",
      "\n",
      "The code that caused this warning is on line 193 of the file /Users/yanayrosen/anaconda/lib/python3.6/runpy.py. To get rid of this warning, change code that looks like this:\n",
      "\n",
      " BeautifulSoup(YOUR_MARKUP})\n",
      "\n",
      "to this:\n",
      "\n",
      " BeautifulSoup(YOUR_MARKUP, \"lxml\")\n",
      "\n",
      "  markup_type=markup_type))\n"
     ]
    },
    {
     "name": "stdout",
     "output_type": "stream",
     "text": [
      "Letter failed x\n",
      "Names extracted.\n",
      "Stopping at 3 names\n"
     ]
    },
    {
     "data": {
      "text/plain": [
       "['carmelo anthony davis bertans',\n",
       " 'brandon paul george hill',\n",
       " 'brandon paul george king',\n",
       " 'chris paul george hill',\n",
       " 'chris paul george king',\n",
       " 'd.j. wilson chandler hutchison',\n",
       " 'd.j. wilson chandler parsons',\n",
       " 'jamil wilson chandler hutchison',\n",
       " 'jamil wilson chandler parsons']"
      ]
     },
     "execution_count": 2,
     "metadata": {},
     "output_type": "execute_result"
    }
   ],
   "source": [
    "find_chain(active_only=True)"
   ]
  },
  {
   "cell_type": "code",
   "execution_count": 3,
   "metadata": {},
   "outputs": [
    {
     "name": "stdout",
     "output_type": "stream",
     "text": [
      "Extracting names...\n"
     ]
    },
    {
     "name": "stderr",
     "output_type": "stream",
     "text": [
      "/Users/yanayrosen/anaconda/lib/python3.6/site-packages/bs4/__init__.py:181: UserWarning: No parser was explicitly specified, so I'm using the best available HTML parser for this system (\"lxml\"). This usually isn't a problem, but if you run this code on another system, or in a different virtual environment, it may use a different parser and behave differently.\n",
      "\n",
      "The code that caused this warning is on line 193 of the file /Users/yanayrosen/anaconda/lib/python3.6/runpy.py. To get rid of this warning, change code that looks like this:\n",
      "\n",
      " BeautifulSoup(YOUR_MARKUP})\n",
      "\n",
      "to this:\n",
      "\n",
      " BeautifulSoup(YOUR_MARKUP, \"lxml\")\n",
      "\n",
      "  markup_type=markup_type))\n"
     ]
    },
    {
     "name": "stdout",
     "output_type": "stream",
     "text": [
      "Letter failed x\n",
      "Names extracted.\n",
      "Stopping at 9 names\n"
     ]
    },
    {
     "data": {
      "text/plain": [
       "['ronnie lester conner henry james ray scott lloyd neal walk',\n",
       " 'ronnie lester conner henry james thomas jordan mickey davis bertans',\n",
       " 'ronnie lester conner henry james thomas jordan mickey dillard crocker']"
      ]
     },
     "execution_count": 3,
     "metadata": {},
     "output_type": "execute_result"
    }
   ],
   "source": [
    "find_chain(active_only=False)"
   ]
  },
  {
   "cell_type": "code",
   "execution_count": null,
   "metadata": {
    "collapsed": true
   },
   "outputs": [],
   "source": []
  }
 ],
 "metadata": {
  "kernelspec": {
   "display_name": "Python 3",
   "language": "python",
   "name": "python3"
  },
  "language_info": {
   "codemirror_mode": {
    "name": "ipython",
    "version": 3
   },
   "file_extension": ".py",
   "mimetype": "text/x-python",
   "name": "python",
   "nbconvert_exporter": "python",
   "pygments_lexer": "ipython3",
   "version": "3.6.1"
  }
 },
 "nbformat": 4,
 "nbformat_minor": 2
}
